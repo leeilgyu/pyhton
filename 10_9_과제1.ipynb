{
  "nbformat": 4,
  "nbformat_minor": 0,
  "metadata": {
    "colab": {
      "provenance": [],
      "authorship_tag": "ABX9TyOgJ3XjAjPAn2ABXBc2DIy/",
      "include_colab_link": true
    },
    "kernelspec": {
      "name": "python3",
      "display_name": "Python 3"
    },
    "language_info": {
      "name": "python"
    }
  },
  "cells": [
    {
      "cell_type": "markdown",
      "metadata": {
        "id": "view-in-github",
        "colab_type": "text"
      },
      "source": [
        "<a href=\"https://colab.research.google.com/github/leeilgyu/pyhton/blob/main/10_9_%EA%B3%BC%EC%A0%9C1.ipynb\" target=\"_parent\"><img src=\"https://colab.research.google.com/assets/colab-badge.svg\" alt=\"Open In Colab\"/></a>"
      ]
    },
    {
      "cell_type": "code",
      "execution_count": null,
      "metadata": {
        "colab": {
          "base_uri": "https://localhost:8080/"
        },
        "id": "7X1DE9rgUoWy",
        "outputId": "9fabfabc-b2a6-490b-9680-261ff7deff35"
      },
      "outputs": [
        {
          "output_type": "stream",
          "name": "stdout",
          "text": [
            "첫번째 수를 입력하세요 x: 24\n",
            "두번째 수를 입력하세요 y: 12\n",
            "y는 x의 약수이지만, x가 아니다.\n"
          ]
        }
      ],
      "source": [
        "x = int(input(\"첫번째 수를 입력하세요 x: \"))\n",
        "y = int(input(\"두번째 수를 입력하세요 y: \"))\n",
        "\n",
        "def leeilgyu(x, y):\n",
        "    if (y%x == 0):\n",
        "        return 1\n",
        "    else:\n",
        "        return 0\n",
        "\n",
        "result1 = leeilgyu(x, y)\n",
        "result2 = leeilgyu(y, x)\n",
        "\n",
        "if result1 & result2:\n",
        "    print('x와 y는 같은 숫자이다.')\n",
        "elif result1 & (not result2):\n",
        "    print('x는 y의 약수이지만, y가 아니다.')\n",
        "elif (not result1) & result2:\n",
        "    print('y는 x의 약수이지만, x가 아니다.')\n",
        "else:\n",
        "    print('x와 y는 서로의 약수가 아니다.')"
      ]
    }
  ]
}