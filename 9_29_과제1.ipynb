{
  "cells": [
    {
      "cell_type": "markdown",
      "metadata": {
        "id": "view-in-github",
        "colab_type": "text"
      },
      "source": [
        "<a href=\"https://colab.research.google.com/github/leeilgyu/pyhton/blob/main/9_29_%EA%B3%BC%EC%A0%9C1.ipynb\" target=\"_parent\"><img src=\"https://colab.research.google.com/assets/colab-badge.svg\" alt=\"Open In Colab\"/></a>"
      ]
    },
    {
      "cell_type": "code",
      "execution_count": null,
      "metadata": {
        "colab": {
          "base_uri": "https://localhost:8080/"
        },
        "id": "uDVp_yedgBZC",
        "outputId": "6623903a-965c-4301-f329-d52b09c67f58"
      },
      "outputs": [
        {
          "output_type": "stream",
          "name": "stdout",
          "text": [
            "자연수 한 개를 입력하세요.:43\n",
            "계속입력을 원하시면, 자연수 한 개를 입력하시고, 아니라면 0을 입력하세요.\n",
            "123\n",
            "계속입력을 원하시면, 자연수 한 개를 입력하시고, 아니라면 0을 입력하세요.\n",
            "43\n",
            "계속입력을 원하시면, 자연수 한 개를 입력하시고, 아니라면 0을 입력하세요.\n",
            "12\n",
            "계속입력을 원하시면, 자연수 한 개를 입력하시고, 아니라면 0을 입력하세요.\n",
            "43\n",
            "계속입력을 원하시면, 자연수 한 개를 입력하시고, 아니라면 0을 입력하세요.\n",
            "8\n",
            "계속입력을 원하시면, 자연수 한 개를 입력하시고, 아니라면 0을 입력하세요.\n",
            "0\n",
            "당신이 입력한 숫자는 큰 것부터 순서대로 말한다면 아래와 같습니다.\n",
            "[123, 43, 43, 43, 12, 8, 0]\n"
          ]
        }
      ],
      "source": [
        "a = []\n",
        "n = int(input('자연수 한 개를 입력하세요.:'))\n",
        "a.append(n)\n",
        "i = 0\n",
        "while True:\n",
        "    print('계속입력을 원하시면, 자연수 한 개를 입력하시고, 아니라면 0을 입력하세요.')\n",
        "    n = int(input())\n",
        "    a.append(n)\n",
        "    if i == 98:\n",
        "      print('이제그만하세요. 벌써 100개를 입력했어요.')\n",
        "      break\n",
        "    elif n == 0:\n",
        "      break\n",
        "    i += 1\n",
        "for j in range(len(a)-1):\n",
        "    for k in range(j+1, len(a)):\n",
        "      if a[j] < a[k]:\n",
        "        a[j], a[k] = a[k], a[j]   \n",
        "print('당신이 입력한 숫자는 큰 것부터 순서대로 말한다면 아래와 같습니다.')\n",
        "print(a)"
      ]
    }
  ],
  "metadata": {
    "colab": {
      "collapsed_sections": [],
      "provenance": [],
      "authorship_tag": "ABX9TyMFO0ZEMGOTYrrYT6JijAPT",
      "include_colab_link": true
    },
    "kernelspec": {
      "display_name": "Python 3",
      "name": "python3"
    },
    "language_info": {
      "name": "python"
    }
  },
  "nbformat": 4,
  "nbformat_minor": 0
}